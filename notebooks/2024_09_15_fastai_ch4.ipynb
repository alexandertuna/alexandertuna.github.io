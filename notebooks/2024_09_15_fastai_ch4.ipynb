{
 "cells": [
  {
   "cell_type": "markdown",
   "id": "ca6f23f6-94eb-4edd-93d6-174fda7e95ce",
   "metadata": {},
   "source": [
    "# fastai, chapter 4\n",
    "\n",
    "This is a blog post to synthesize some knowledge from Chapter 4 of the [fastai course](https://course.fast.ai/).\n",
    "\n",
    "In this chapter, we discussed the fundamentals of a simple neural net and built one from scratch. Our test case was the classic MNIST dataset, focusing on only two numbers specifically (3 and 7).\n",
    "\n",
    "In this notebook, I'll reproduce the steps myself for training a fully-connected network on the MNIST dataset. The model will consider all 10 digits, and will focus on a pure PyTorch implementation. I'll also do the Q&A for the chapter."
   ]
  },
  {
   "cell_type": "code",
   "execution_count": 220,
   "id": "41af00d7-c79e-4572-9598-24b9b0012006",
   "metadata": {},
   "outputs": [],
   "source": [
    "import torch\n",
    "import torch.nn as nn\n",
    "import torch.nn.functional as F\n",
    "from torchvision import datasets, transforms\n",
    "import matplotlib.pyplot as plt\n",
    "import numpy as np"
   ]
  },
  {
   "cell_type": "code",
   "execution_count": 183,
   "id": "4f6a73ea-0a2c-4cd6-8513-94587983f391",
   "metadata": {},
   "outputs": [
    {
     "name": "stdout",
     "output_type": "stream",
     "text": [
      "cpu\n"
     ]
    }
   ],
   "source": [
    "# device = torch.device(\"mps\") if torch.backends.mps.is_available() else torch.device(\"cpu\")\n",
    "device = torch.device(\"cpu\")\n",
    "print(device)"
   ]
  },
  {
   "cell_type": "code",
   "execution_count": 218,
   "id": "664522f3-5e3b-4e4f-adaa-b84848861430",
   "metadata": {},
   "outputs": [],
   "source": [
    "# A few constants\n",
    "PIXELS_X, PIXELS_Y = 28, 28\n",
    "PIXELS = PIXELS_X * PIXELS_Y\n",
    "BATCH_SIZE = 128\n",
    "EPOCHS = 5000\n",
    "LEARNING_RATE = 0.00005\n",
    "CLASSES = 10"
   ]
  },
  {
   "cell_type": "code",
   "execution_count": null,
   "id": "ae4500a4-a3ab-4708-b747-f2c8497d3bd3",
   "metadata": {},
   "outputs": [],
   "source": [
    "# Fetch the data (training and validation)\n",
    "transform = transforms.Compose([\n",
    "    transforms.ToTensor(),\n",
    "    transforms.Normalize((0.5,), (0.5,))\n",
    "])\n",
    "train_dataset = datasets.MNIST(root='./data', train=True, download=True, transform=transform)\n",
    "valid_dataset = datasets.MNIST(root='./data', train=False, download=True, transform=transform)"
   ]
  },
  {
   "cell_type": "code",
   "execution_count": 58,
   "id": "9c620bb8-4b92-4796-a7c1-7c2b15eb4999",
   "metadata": {},
   "outputs": [
    {
     "name": "stdout",
     "output_type": "stream",
     "text": [
      "torch.Size([1, 1, 28, 28])\n"
     ]
    },
    {
     "data": {
      "image/png": "[encoded data removed]",
      "text/plain": [
       "<Figure size 800x200 with 4 Axes>"
      ]
     },
     "metadata": {},
     "output_type": "display_data"
    }
   ],
   "source": [
    "# Make a dataloader from the datasets just for visualization\n",
    "viz_loader = torch.utils.data.DataLoader(dataset=train_dataset, batch_size=1, shuffle=False)\n",
    "fig, ax = plt.subplots(ncols=4, figsize=(8, 2))\n",
    "for i, (image, label) in enumerate(viz_loader):\n",
    "    ax[i].imshow(image.reshape([28, 28]), cmap=\"gray_r\")\n",
    "    ax[i].set_title(f\"This is a {label.item()}\")\n",
    "    if i >= 3:\n",
    "        break\n",
    "    if i == 0:\n",
    "        print(image.shape)"
   ]
  },
  {
   "cell_type": "code",
   "execution_count": 174,
   "id": "c05cf794-e049-47b5-a49d-df120e543ac4",
   "metadata": {},
   "outputs": [],
   "source": [
    "# Make dataloaders from the datasets\n",
    "train_loader = torch.utils.data.DataLoader(dataset=train_dataset, batch_size=BATCH_SIZE, shuffle=True)\n",
    "valid_loader = torch.utils.data.DataLoader(dataset=valid_dataset, batch_size=BATCH_SIZE, shuffle=False)"
   ]
  },
  {
   "cell_type": "code",
   "execution_count": 211,
   "id": "c3d5b315-1961-4b22-8095-951f543606df",
   "metadata": {},
   "outputs": [],
   "source": [
    "# Make our model\n",
    "model = nn.Sequential(\n",
    "    nn.Linear(PIXELS, 100),\n",
    "    nn.ReLU(),\n",
    "    nn.Linear(100, 10),\n",
    ").to(device)\n",
    "# optimizer = torch.optim.SGD(model.parameters(), lr=LEARNING_RATE)"
   ]
  },
  {
   "cell_type": "code",
   "execution_count": 212,
   "id": "240334df-e8c8-40a0-b0fd-f92ebe666268",
   "metadata": {},
   "outputs": [],
   "source": [
    "# Evaluate validation loss\n",
    "def overall_loss(\n",
    "    model: torch.nn.Sequential,\n",
    "    loader: torch.utils.data.DataLoader,\n",
    "):\n",
    "    with torch.no_grad():\n",
    "        num, loss, correct = 0.0, 0.0, 0.0\n",
    "        for (x, y) in loader:\n",
    "            # x = x.to(device)\n",
    "            # y = y.to(device)\n",
    "            batch, _, _, _ = x.shape\n",
    "            preds = model(x.reshape([batch, PIXELS]))\n",
    "            num += batch\n",
    "            loss += F.cross_entropy(preds, y, reduction=\"sum\")\n",
    "            correct += (preds.argmax(axis=1) == y).sum()\n",
    "        return loss / num, correct / num"
   ]
  },
  {
   "cell_type": "code",
   "execution_count": 216,
   "id": "a84b3dcd-d88c-42a9-990e-5a96c373066d",
   "metadata": {},
   "outputs": [
    {
     "name": "stdout",
     "output_type": "stream",
     "text": [
      "On epoch 0 loss (train) = 0.17464, acc (train) = 0.95125 loss (valid) = 0.17944, acc (valid) = 0.94820\n",
      "On epoch 1 loss (train) = 0.17464, acc (train) = 0.95125 loss (valid) = 0.17944, acc (valid) = 0.94820\n",
      "On epoch 2 loss (train) = 0.17463, acc (train) = 0.95125 loss (valid) = 0.17944, acc (valid) = 0.94820\n",
      "On epoch 3 loss (train) = 0.17463, acc (train) = 0.95125 loss (valid) = 0.17944, acc (valid) = 0.94820\n",
      "On epoch 4 loss (train) = 0.17463, acc (train) = 0.95125 loss (valid) = 0.17944, acc (valid) = 0.94820\n",
      "On epoch 5 loss (train) = 0.17463, acc (train) = 0.95125 loss (valid) = 0.17944, acc (valid) = 0.94820\n",
      "On epoch 6 loss (train) = 0.17463, acc (train) = 0.95125 loss (valid) = 0.17943, acc (valid) = 0.94820\n",
      "On epoch 7 loss (train) = 0.17462, acc (train) = 0.95125 loss (valid) = 0.17943, acc (valid) = 0.94830\n",
      "On epoch 8 loss (train) = 0.17462, acc (train) = 0.95125 loss (valid) = 0.17943, acc (valid) = 0.94830\n",
      "On epoch 9 loss (train) = 0.17462, acc (train) = 0.95127 loss (valid) = 0.17943, acc (valid) = 0.94830\n",
      "On epoch 10 loss (train) = 0.17462, acc (train) = 0.95127 loss (valid) = 0.17943, acc (valid) = 0.94830\n",
      "On epoch 20 loss (train) = 0.17460, acc (train) = 0.95127 loss (valid) = 0.17941, acc (valid) = 0.94840\n",
      "On epoch 30 loss (train) = 0.17457, acc (train) = 0.95127 loss (valid) = 0.17939, acc (valid) = 0.94840\n",
      "On epoch 40 loss (train) = 0.17455, acc (train) = 0.95128 loss (valid) = 0.17937, acc (valid) = 0.94840\n",
      "On epoch 50 loss (train) = 0.17453, acc (train) = 0.95128 loss (valid) = 0.17936, acc (valid) = 0.94840\n",
      "On epoch 60 loss (train) = 0.17451, acc (train) = 0.95128 loss (valid) = 0.17934, acc (valid) = 0.94840\n",
      "On epoch 70 loss (train) = 0.17449, acc (train) = 0.95130 loss (valid) = 0.17932, acc (valid) = 0.94840\n",
      "On epoch 80 loss (train) = 0.17447, acc (train) = 0.95133 loss (valid) = 0.17930, acc (valid) = 0.94840\n",
      "On epoch 90 loss (train) = 0.17445, acc (train) = 0.95133 loss (valid) = 0.17928, acc (valid) = 0.94840\n",
      "On epoch 100 loss (train) = 0.17443, acc (train) = 0.95133 loss (valid) = 0.17927, acc (valid) = 0.94850\n",
      "On epoch 200 loss (train) = 0.17422, acc (train) = 0.95137 loss (valid) = 0.17909, acc (valid) = 0.94850\n",
      "On epoch 300 loss (train) = 0.17401, acc (train) = 0.95138 loss (valid) = 0.17891, acc (valid) = 0.94850\n",
      "On epoch 400 loss (train) = 0.17380, acc (train) = 0.95147 loss (valid) = 0.17873, acc (valid) = 0.94840\n",
      "On epoch 500 loss (train) = 0.17360, acc (train) = 0.95153 loss (valid) = 0.17855, acc (valid) = 0.94850\n",
      "On epoch 600 loss (train) = 0.17339, acc (train) = 0.95158 loss (valid) = 0.17837, acc (valid) = 0.94850\n",
      "On epoch 700 loss (train) = 0.17318, acc (train) = 0.95165 loss (valid) = 0.17819, acc (valid) = 0.94860\n",
      "On epoch 800 loss (train) = 0.17298, acc (train) = 0.95173 loss (valid) = 0.17801, acc (valid) = 0.94860\n",
      "On epoch 900 loss (train) = 0.17277, acc (train) = 0.95173 loss (valid) = 0.17784, acc (valid) = 0.94860\n",
      "On epoch 1000 loss (train) = 0.17257, acc (train) = 0.95175 loss (valid) = 0.17766, acc (valid) = 0.94860\n",
      "On epoch 2000 loss (train) = 0.17055, acc (train) = 0.95230 loss (valid) = 0.17594, acc (valid) = 0.94920\n",
      "On epoch 3000 loss (train) = 0.16859, acc (train) = 0.95297 loss (valid) = 0.17426, acc (valid) = 0.94950\n",
      "On epoch 4000 loss (train) = 0.16666, acc (train) = 0.95363 loss (valid) = 0.17264, acc (valid) = 0.94980\n",
      "On epoch 4999 loss (train) = 0.16478, acc (train) = 0.95425 loss (valid) = 0.17105, acc (valid) = 0.95040\n"
     ]
    }
   ],
   "source": [
    "loss = 999\n",
    "optimizer = torch.optim.SGD(model.parameters(), lr=LEARNING_RATE/10)\n",
    "for epoch in range(EPOCHS):\n",
    "\n",
    "    announcement = any([\n",
    "        epoch < 1e1,\n",
    "        epoch < 1e2 and epoch % 1e1 == 0,\n",
    "        epoch < 1e3 and epoch % 1e2 == 0,\n",
    "        epoch < 1e4 and epoch % 1e3 == 0,\n",
    "        epoch == EPOCHS - 1,\n",
    "    ])\n",
    "    \n",
    "    if announcement:\n",
    "        print(f\"On epoch {epoch}\", end=\" \")\n",
    "\n",
    "    for (x, y) in train_loader:\n",
    "        # x = x.to(device)\n",
    "        # y = y.to(device)\n",
    "        optimizer.zero_grad()\n",
    "        batch, _, _, _ = x.shape\n",
    "        preds = model(x.reshape([batch, PIXELS]))\n",
    "        loss = F.cross_entropy(preds, y)\n",
    "        loss.backward()\n",
    "        optimizer.step()\n",
    "\n",
    "    if announcement:\n",
    "        train_loss, train_acc = overall_loss(model, train_loader)\n",
    "        valid_loss, valid_acc = overall_loss(model, valid_loader)\n",
    "        print(f\"loss (train) = {train_loss:.5f}, acc (train) = {train_acc:.5f}\", end=\" \")\n",
    "        print(f\"loss (valid) = {valid_loss:.5f}, acc (valid) = {valid_acc:.5f}\")"
   ]
  },
  {
   "cell_type": "code",
   "execution_count": 217,
   "id": "f83a6402-e113-4dd9-9687-51f1dd1df441",
   "metadata": {},
   "outputs": [
    {
     "name": "stdout",
     "output_type": "stream",
     "text": [
      "Found a bad one\n",
      "Found a bad one\n",
      "Found a bad one\n",
      "Found a bad one\n",
      "Found a bad one\n",
      "Found a bad one\n",
      "Found a bad one\n",
      "Found a bad one\n",
      "Found a bad one\n",
      "Found a bad one\n"
     ]
    },
    {
     "data": {
      "image/png": "[encoded data removed]",
      "text/plain": [
       "<Figure size 1000x300 with 4 Axes>"
      ]
     },
     "metadata": {},
     "output_type": "display_data"
    }
   ],
   "source": [
    "def find_worst(\n",
    "    model: torch.nn.Sequential,\n",
    "    loader: torch.utils.data.DataLoader,\n",
    "):\n",
    "    num_worst = 10\n",
    "    i_incorrect = 0\n",
    "    worst_images = torch.zeros([num_worst, 1, PIXELS_X, PIXELS_Y])\n",
    "    worst_labels = torch.zeros([num_worst])\n",
    "    worst_preds = torch.zeros([num_worst])\n",
    "    with torch.no_grad():\n",
    "        num, loss, correct = 0.0, 0.0, 0.0\n",
    "        for (x, y) in loader:\n",
    "            batch, _, _, _ = x.shape\n",
    "            preds = model(x.reshape([batch, PIXELS]))\n",
    "            correct = preds.argmax(axis=1) == y\n",
    "            for i_data in range(len(correct)):\n",
    "                if correct[i_data]:\n",
    "                    continue\n",
    "                print(\"Found a bad one\")\n",
    "                worst_images[i_incorrect] = x[i_data]\n",
    "                worst_labels[i_incorrect] = y[i_data]\n",
    "                worst_preds[i_incorrect] = preds[i_data].argmax()\n",
    "                i_incorrect += 1\n",
    "                \n",
    "                if i_incorrect >= num_worst:\n",
    "                    return worst_images, worst_labels, worst_preds\n",
    "\n",
    "    return worst_images, worst_labels, worst_preds\n",
    "\n",
    "\n",
    "worst_images, worst_labels, worst_preds = find_worst(model, valid_loader)\n",
    "ncols = 4\n",
    "fig, ax = plt.subplots(ncols=ncols, figsize=(10, 3))\n",
    "for i in range(len(worst_labels)):\n",
    "    if i >= ncols:\n",
    "        break\n",
    "    ax[i].imshow(worst_images[i].reshape(PIXELS_X, PIXELS_Y), cmap=\"gray_r\")\n",
    "    ax[i].set_title(f\"Truth = {int(worst_labels[i])}, pred = {int(worst_preds[i])}\")\n"
   ]
  },
  {
   "cell_type": "code",
   "execution_count": 265,
   "id": "f7861495-b5d2-4f2e-b42b-06cbcb3e1249",
   "metadata": {},
   "outputs": [
    {
     "data": {
      "image/png": "[encoded data removed]",
      "text/plain": [
       "<Figure size 600x600 with 1 Axes>"
      ]
     },
     "metadata": {},
     "output_type": "display_data"
    }
   ],
   "source": [
    "# Confusion matrix\n",
    "def confusion_matrix(\n",
    "    model: torch.nn.Sequential,\n",
    "    loader: torch.utils.data.DataLoader,\n",
    "):\n",
    "    counts = np.zeros([CLASSES, CLASSES])\n",
    "    with torch.no_grad():\n",
    "        for (x, y) in loader:\n",
    "            batch, _, _, _ = x.shape\n",
    "            preds = model(x.reshape([batch, PIXELS]))\n",
    "            for i_data in range(len(y)):\n",
    "                counts[(\n",
    "                    preds[i_data].argmax(),\n",
    "                    y[i_data],\n",
    "                )] += 1\n",
    "    return counts\n",
    "\n",
    "\n",
    "counts = confusion_matrix(model, train_loader)\n",
    "\n",
    "# normalize rows (true number)\n",
    "fracs = counts / counts.sum(axis=1, keepdims=True)\n",
    "\n",
    "fig, ax = plt.subplots(figsize=(6, 6))\n",
    "ax.imshow(fracs, cmap=\"bwr\", origin=\"lower\")\n",
    "ax.set_xlabel(\"Pred number\")\n",
    "ax.set_ylabel(\"True number\")\n",
    "for i in range(fracs.shape[0]):\n",
    "    for j in range(fracs.shape[1]):\n",
    "        ax.text(j, i, f\"{fracs[i, j]:.3f}\", ha='center', va='center', color='white')"
   ]
  },
  {
   "cell_type": "markdown",
   "id": "9feb27d1-944e-42f5-bd7a-d6e489aa801f",
   "metadata": {},
   "source": [
    "## Questionnaire\n",
    "\n",
    "Q: How is a grayscale image represented on a computer? How about a color image?\n",
    "\n",
    "A: A grayscale image is represented as a matrix of pixel values, typically between 0 and 255 (8 bits). A color image is represented the same, except there is one matrix for each color: red, green, and blue (rgb).\n",
    "\n",
    "Q: How are the files and folders in the `MNIST_SAMPLE` dataset structured? Why?\n",
    "\n",
    "A: There are two layers of folders. The first layer is training and validation folders. The nested folders therein are numbers, i.e. 3 and 7. This is convenient because each folder contains the images of their specific purpose: `train/3/*.png`, `train/7/*.png`, `valid/3/*.png`, `valid/7/*.png`.\n",
    "\n",
    "Q: Explain how the \"pixel similarity\" approach to classifying digits works.\n",
    "\n",
    "A: We discussed \"pixel similarity\" as a way to predict whether an image was a 3 or a 7. The approach is to calculate an \"ideal\" 3 and ideal 7; measure the similarity of a test image with the ideal 3 and ideal 7; and choose the ideal number which is most similar to the test image. In our example, we had a test image of a 3 which was more similar to the ideal 3 than the ideal 7.\n",
    "\n",
    "To calculate an ideal 3 (or 7), we measured an average pixel value of all 3s (or 7s) in our dataset.\n",
    "\n",
    "To measure the similarity of a test image with an ideal number, we took the pixel-by-pixel difference between the test image and the ideal number. We considered the absolute difference (L1 norm) and squared difference (L2 norm) and both seemed to work okay.\n",
    "\n",
    "Q: What is a list comprehension? Create one now that selects odd numbers from a list and doubles them.\n",
    "\n",
    "A: List comprehension is a pythonic way to create a list, from another list, in one line. For example,\n",
    "\n",
    "```\n",
    "odds_doubled = [2*num for num in range(20) if num % 2 == 1]\n",
    "```\n",
    "\n",
    "Q: What is a \"rank-3 tensor\"?\n",
    "\n",
    "A: It's a 3-dimension tensor, e.g. a list of matrices.\n",
    "\n",
    "Q: What is the difference between tensor rank and shape? How do you get the rank from the shape?\n",
    "\n",
    "A: Tensor rank is how many dimensions exist. Tensor shape is how many dimensions exist and their sizes. For example, the shape of a MNIST image is [28, 28], whereas its rank is 2. The rank is the length of the shape.\n",
    "\n",
    "Q: What are RMSE and L1 norm?\n",
    "\n",
    "A: RMSE is the root-mean-squared-error, which is self-describing: given a list of errors (differences), we take the square of each number; find the mean; and take the square root. This is also called the L2 norm. The L1 norm is similar, except we take the absolute value instead of the square, and we don't bother with the square root.\n",
    "\n",
    "Q: How can you apply a calculation on thousands of numbers at once, many thousands of times faster than a Python loop?\n",
    "\n",
    "A: Whenever possible, do calculations within torch/numpy tensors/matrices, and not with a python loop.\n",
    "\n",
    "Q: Create a 3×3 tensor or array containing the numbers from 1 to 9. Double it. Select the bottom-right four numbers.\n",
    "\n",
    "A: `tensor = (torch.arange(1, 10).reshape(3, 3) * 2)[1:, 1:]`\n",
    "\n",
    "Q: What is broadcasting?\n",
    "\n",
    "A: Broadcasting is the way torch/numpy \"fill in the blanks\" in a variety of calculations. When performing operations on differently-sized matrices, broadcasting will essentially pad the smaller-dimension matrix with copies of itself to fit the larger-dimension matrix. It's magical.\n",
    "\n",
    "Q: Are metrics generally calculated using the training set, or the validation set? Why?\n",
    "\n",
    "A: Validation set. The training set always suffers from overfitting and would provide a biased measurement of the metric.\n",
    "\n",
    "Q: What is SGD?\n",
    "\n",
    "A: Stochastic gradient descent. It's gradient descent, but chunks of data at a time (calling it \"stochastic\" is generous).\n",
    "\n",
    "Q: Why does SGD use mini-batches?\n",
    "\n",
    "A: Large datasets make it prohibitive to use entire datasets for SGD. Using individual data points is slow and inefficient. Mini-batches is a compromise to keep the GPU working hard\n",
    "\n",
    "Q: What are the seven steps in SGD for machine learning?\n",
    "\n",
    "A: Initialize weights. Forward pass. Calculate loss. Backward pass. Step. Repeat. Stop.\n",
    "\n",
    "Q: How do we initialize the weights in a model?\n",
    "\n",
    "A: Randomly, with \"small\" values.\n",
    "\n",
    "Q: What is \"loss\"?\n",
    "\n",
    "A: It's a measure of how accurately our predictions match the targets. We want it to be a smooth, continuous function which is good for gradient descent.\n",
    "\n",
    "Q: Why can't we always use a high learning rate?\n",
    "\n",
    "A: SGD doesn't converge when the learning rate is high.\n",
    "\n",
    "Q: What is a \"gradient\"?\n",
    "\n",
    "A: A gradient is a derivative, or possibly a list of derivatives, depending on who you're talking to.\n",
    "\n",
    "Q: Do you need to know how to calculate gradients yourself?\n",
    "\n",
    "A: Typically no. PyTorch and other popular libraries can do it for me.\n",
    "\n",
    "Q: Why can't we use accuracy as a loss function?\n",
    "\n",
    "A: A binary function like accuracy (correct/incorrect) isn't nice for gradient descent, which means it isn't nice for a loss function. For example, if a model successfully predicts the number 3 with 80% confidence vs 90% confidence, the loss should reflect that the 90% prediction is better than the 80% prediction. But this information is lost when considering accuracy, which assigns \"correct\" to both predictions.\n",
    "\n",
    "Q: Draw the sigmoid function. What is special about its shape?\n",
    "\n",
    "A: It's like a S-shape. It's a convenient function for a classifier because it's outputs are between 0 and 1.\n",
    "\n",
    "Q: What is the difference between a loss function and a metric?\n",
    "\n",
    "A: A loss function is a metric! But a metric isn't always a loss function. Ideally, a loss function is a smooth, continuous function which is good for gradient descent. Metrics are usually more human-friendly.\n",
    "\n",
    "Q: What is the function to calculate new weights using a learning rate?\n",
    "\n",
    "A: `weights -= learning_rate * weights.grad`\n",
    "\n",
    "Q: What does the `DataLoader` class do?\n",
    "\n",
    "A: It's a PyTorch class which is a convenient interface to the raw data. It does batching and shuffling for us.\n",
    "\n",
    "Q: Write pseudocode showing the basic steps taken in each epoch for SGD.\n",
    "\n",
    "A: prediction = model(x). loss = loss_function(prediction, y). loss.backward(). model.parameters().data -= model.parameters.grad() * learning_rate.\n",
    "\n",
    "Q: Create a function that, if passed two arguments `[1,2,3,4]` and `'abcd'`, returns `[(1, 'a'), (2, 'b'), (3, 'c'), (4, 'd')]`. What is special about that output data structure?\n",
    "\n",
    "A: `list(enumerate(\"abcd\"))`. I'm gonna ignore the request to start with index=1. This output data structure is similar to a PyTorch `Dataset` class.\n",
    "\n",
    "Q: What does `view` do in PyTorch?\n",
    "\n",
    "A: It provides a reshaped view of a tensor without changing the underlying data (i.e., it's computationally inexpensive).\n",
    "\n",
    "Q: What are the \"bias\" parameters in a neural network? Why do we need them?\n",
    "\n",
    "A: They're constants. In the `m * x + b` analogy, they are the `b`. They're a handy additional degree of freedom. I suppose they're not strictly necessary, but they're hurting anybody, why not have them?\n",
    "\n",
    "Q: What does the `@` operator do in Python?\n",
    "\n",
    "A: `@` does matrix multiplication.\n",
    "\n",
    "Q: What does the `backward` method do?\n",
    "\n",
    "A: This evaluate the gradients of all parameters linked to a tensor.\n",
    "\n",
    "Q: Why do we have to zero the gradients?\n",
    "\n",
    "A: Interally, PyTorch sums gradients from individual data samples within a batch (I think) to find an average gradient. This means the sum must be reset to zero between batches.\n",
    "\n",
    "Q: What information do we have to pass to `Learner`?\n",
    "\n",
    "A: Dataset, architecture, optimizer, loss function, and metrics.\n",
    "\n",
    "Q: Show Python or pseudocode for the basic steps of a training loop.\n",
    "\n",
    "A: \n",
    "\n",
    "```\n",
    "for batch in data:\n",
    "  make prediction\n",
    "  calculate loss\n",
    "  calculate gradients\n",
    "  update prediction parameters\n",
    "  zero gradients\n",
    "```\n",
    "\n",
    "Q: What is \"ReLU\"? Draw a plot of it for values from `-2` to `+2`.\n",
    "\n",
    "A: ReLU is rectified linear unit (lol). It's a function f(x) which is defined as zero when x is negative, and x with x is positive.\n",
    "\n",
    "Q: What is an \"activation function\"?\n",
    "\n",
    "A: It's a non-linear function which is applied element-wise at each layer of a network. ReLU is a common activation function.\n",
    "\n",
    "Q: What's the difference between `F.relu` and `nn.ReLU`?\n",
    "\n",
    "A: `F.relu` is a function-style implementation of relu, whereas `nn.ReLU` is a class-style implemetation. `nn.ReLU` is necessary when doing a `nn.Sequential` model, for example.\n",
    "\n",
    "Q: The universal approximation theorem shows that any function can be approximated as closely as needed using just one nonlinearity. So why do we normally use more?\n",
    "\n",
    "A: Using multiple layers of network, and therefore multiple non-linearities, provide more freedom to the network. This can often give better performance.\n"
   ]
  },
  {
   "cell_type": "code",
   "execution_count": 246,
   "id": "bfb7ecaa-fb0e-4298-8e6a-c17dc3385a1f",
   "metadata": {},
   "outputs": [
    {
     "data": {
      "text/plain": [
       "array([1., 2., 3.])"
      ]
     },
     "execution_count": 246,
     "metadata": {},
     "output_type": "execute_result"
    }
   ],
   "source": [
    "x = np.array([1, 2, 3])\n",
    "x.astype(float)"
   ]
  },
  {
   "cell_type": "code",
   "execution_count": null,
   "id": "bc27986b-2615-4bba-bceb-187a1137367d",
   "metadata": {},
   "outputs": [],
   "source": []
  }
 ],
 "metadata": {
  "kernelspec": {
   "display_name": "Python 3 (ipykernel)",
   "language": "python",
   "name": "python3"
  },
  "language_info": {
   "codemirror_mode": {
    "name": "ipython",
    "version": 3
   },
   "file_extension": ".py",
   "mimetype": "text/x-python",
   "name": "python",
   "nbconvert_exporter": "python",
   "pygments_lexer": "ipython3",
   "version": "3.11.9"
  }
 },
 "nbformat": 4,
 "nbformat_minor": 5
}
