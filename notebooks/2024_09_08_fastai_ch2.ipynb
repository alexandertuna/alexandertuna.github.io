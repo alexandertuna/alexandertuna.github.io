{
 "cells": [
  {
   "cell_type": "markdown",
   "id": "f588da8d-62ad-4e08-b4df-cf981dc9e173",
   "metadata": {},
   "source": [
    "# fastai, chapter 2\n",
    "\n",
    "This is a blog post to synthesize some knowledge from Chapter 2 of the [fastai course](https://course.fast.ai/).\n",
    "\n",
    "In this chapter, we continued discussing the fundamentals of machine learning development. We also grabbed photos of bears from the internet and used a pretrained image model (ResNet18) to predict what kind of bear an image contains. We also discussed how to save the model to disk and use it for inference in the future. Last, we made a graphical app which called our model under the hood.\n",
    "\n",
    "In this notebook, I'll reproduce the steps myself for fine-tuning a pretrained image model.\n",
    "\n",
    "I won't reproduce the steps of making or deploying a graphical app yet. I understand this is important, but I am focusing on experience with ML models for now."
   ]
  },
  {
   "cell_type": "code",
   "execution_count": null,
   "id": "e6f42411-3736-434c-a911-4d4489b8f420",
   "metadata": {},
   "outputs": [],
   "source": []
  }
 ],
 "metadata": {
  "kernelspec": {
   "display_name": "Python 3 (ipykernel)",
   "language": "python",
   "name": "python3"
  },
  "language_info": {
   "codemirror_mode": {
    "name": "ipython",
    "version": 3
   },
   "file_extension": ".py",
   "mimetype": "text/x-python",
   "name": "python",
   "nbconvert_exporter": "python",
   "pygments_lexer": "ipython3",
   "version": "3.11.9"
  }
 },
 "nbformat": 4,
 "nbformat_minor": 5
}
